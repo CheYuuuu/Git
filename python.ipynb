{
  "nbformat": 4,
  "nbformat_minor": 0,
  "metadata": {
    "colab": {
      "name": "python.ipynb",
      "provenance": [],
      "toc_visible": true,
      "authorship_tag": "ABX9TyPQGRv1axfni5ZMBVVYqpRF",
      "include_colab_link": true
    },
    "kernelspec": {
      "name": "python3",
      "display_name": "Python 3"
    },
    "language_info": {
      "name": "python"
    }
  },
  "cells": [
    {
      "cell_type": "markdown",
      "metadata": {
        "id": "view-in-github",
        "colab_type": "text"
      },
      "source": [
        "<a href=\"https://colab.research.google.com/github/CheYuuuu/Git/blob/main/python.ipynb\" target=\"_parent\"><img src=\"https://colab.research.google.com/assets/colab-badge.svg\" alt=\"Open In Colab\"/></a>"
      ]
    },
    {
      "cell_type": "markdown",
      "source": [
        "### 變量和基本數據類型"
      ],
      "metadata": {
        "id": "Z4V7FNxZlom3"
      }
    },
    {
      "cell_type": "code",
      "source": [
        "# 數據7大類型\n",
        "# Bool, Number, String, Tuple, list, Set, Dictionary"
      ],
      "metadata": {
        "id": "xhKdtR9_mfGB"
      },
      "execution_count": 41,
      "outputs": []
    },
    {
      "cell_type": "code",
      "execution_count": 42,
      "metadata": {
        "id": "7YTKHI_qkk9G"
      },
      "outputs": [],
      "source": [
        "# 可同時為多個變量賦值\n",
        "# str1, str2, str3 = \"A\", \"B\", \"C\" \n",
        "# x, y, z = 1, 2, 3\n",
        "# a = b = c = 1"
      ]
    },
    {
      "cell_type": "code",
      "source": [
        "# Bool\n",
        "# True, False\n",
        "# string = \"12342314\"\n",
        "# print(string.isalnum()) \n",
        "# print(string.isalpha()) \n",
        "# print(string.isupper())"
      ],
      "metadata": {
        "id": "bLCeBt7DnBXx"
      },
      "execution_count": 43,
      "outputs": []
    },
    {
      "cell_type": "code",
      "source": [
        "# Number\n",
        "# int, float, complex\n",
        "# a, b, c, d = True, 20, 5.5, 4+3j\n",
        "# print(type(a), type(b), type(c), type(d))\n",
        "# universe_age = 14_000_000_000 # 數字中畫底線，常數字可讀性高\n",
        "# MAX_CONNECTIONS = 5000 # 恆定沒有要改的數字，其變量習慣大寫"
      ],
      "metadata": {
        "id": "2xwfopbMqmZP"
      },
      "execution_count": 44,
      "outputs": []
    },
    {
      "cell_type": "code",
      "source": [
        "# 16進制，8進制\n",
        "# number = 0xA0F # 十六进制\n",
        "# print(number) \n",
        "# number = 0o37 # 八进制\n",
        "# print(number) "
      ],
      "metadata": {
        "id": "Kjmoeq1wq30U"
      },
      "execution_count": 45,
      "outputs": []
    },
    {
      "cell_type": "code",
      "source": [
        "#格式化\n",
        "# first_name, last_name = \"Enoch\", \"Zheng\"\n",
        "# full_name = f\"{first_name} {last_name}\" \n",
        "# full_name2 = f\"{first_name.upper()} {last_name.upper()}\"\n",
        "# full_name3 = \"My name is {}, {}\".format (first_name, last_name)\n",
        "# full_name4 = \"{}\\'s last name is {}\"\n",
        "# print(full_name4.format(first_name, last_name))\n",
        "# print(f\"{first_name}\\'s last name is {last_name}\")"
      ],
      "metadata": {
        "id": "mKQDt8dRrMpP"
      },
      "execution_count": 46,
      "outputs": []
    },
    {
      "cell_type": "code",
      "source": [
        "# 轉譯符號\n",
        "# {\\n=換行, \\t=Tab, \\加上任何符號就會出現該符號}\n",
        "# print(\"I\\'m learning\\nPython.\")\n",
        "# print(r\"\\\\\\\\t\\\\\") "
      ],
      "metadata": {
        "id": "nHZ2rYs2sQ5Z"
      },
      "execution_count": 47,
      "outputs": []
    },
    {
      "cell_type": "code",
      "source": [
        "# sting \n",
        "# str = 'TuringPlanet'\n",
        "# print (str + \"ENOCH\") # 連接 -> TuringPlanetEnoch\n",
        "# print (str * 2)       # 輸出两次 -> TuringPlanetTuringPlanet \n",
        "# print (str[0:-1])     # 輸出第一個到倒數第二个-> TuringPlane\n",
        "# print (str[0])        # 輸出第一个 -> T\n",
        "# print (str[2:5])      # 輸出從第三到第五個 -> rin\n",
        "# print (str[2:])       # 輸出從第三到最後 -> ringPlanet"
      ],
      "metadata": {
        "id": "iPrur7fytH1W"
      },
      "execution_count": 48,
      "outputs": []
    },
    {
      "cell_type": "code",
      "source": [
        "# 常用數學函示 import math\n",
        "# x=1\n",
        "# abs(x) # 絕對值\n",
        "# fabs(x) # 絕對值(有小數點)\n",
        "# ceil(x) # 無條件進位\n",
        "# floor(x) # 無條件捨去\n",
        "# round(x, n) # 4捨5入，若有n則為小數點後位數\n",
        "# exp(x) # 自然對數e**x\n",
        "# log(x) # 對數\n",
        "# log10(x) # 10為底的對數\n",
        "# sqrt(x) # 平方根\n",
        "\n"
      ],
      "metadata": {
        "id": "qtRz2J9nvLVy"
      },
      "execution_count": 49,
      "outputs": []
    },
    {
      "cell_type": "markdown",
      "source": [
        ""
      ],
      "metadata": {
        "id": "b-YbkMIRmaK2"
      }
    },
    {
      "cell_type": "markdown",
      "source": [
        "# 序列數據類型\n"
      ],
      "metadata": {
        "id": "NxSdtstbxIea"
      }
    },
    {
      "cell_type": "code",
      "source": [
        "# List\n",
        "letters = ['a', 'b', 'c', 'd', 'e', 'f', 'g']\n",
        "#string也能這樣用\n",
        "print(letters[::-1])\n",
        "print(letters[::-2])\n",
        "print(letters[2:-2])\n",
        "print(letters[:-1])\n",
        "print(letters[:-2])\n",
        "lettersCOPY = letters.copy() # copy\n",
        "lettersCOPY[-2] = 2019 #更改值\n",
        "lettersCOPY.insert(1, 'insert') #增加在index\n",
        "lettersCOPY.append('append') #增加在後面\n",
        "lettersCOPY.remove('a') #移除值\n",
        "letters.sort() #排序\n",
        "sorted(letters) #排序\n",
        "letters.reverse() #倒排序\n",
        "del lettersCOPY #刪除list"
      ],
      "metadata": {
        "colab": {
          "base_uri": "https://localhost:8080/"
        },
        "id": "xuIhbpqwxVZS",
        "outputId": "9cde088d-2436-4858-e562-c8c68f9d3649"
      },
      "execution_count": 61,
      "outputs": [
        {
          "output_type": "stream",
          "name": "stdout",
          "text": [
            "['g', 'f', 'e', 'd', 'c', 'b', 'a']\n",
            "['g', 'e', 'c', 'a']\n",
            "['c', 'd', 'e']\n",
            "['a', 'b', 'c', 'd', 'e', 'f']\n",
            "['a', 'b', 'c', 'd', 'e']\n"
          ]
        }
      ]
    },
    {
      "cell_type": "code",
      "source": [
        "# Tuple\n",
        "dimensions = (200, 50) \n",
        "dimensions[0] = 250 # error. 不能修改\n",
        "dimensions = (200, 50)\n",
        "dimensions = (400, 10) # 但可以重新賦值\n",
        "del dimensions #可直接被刪除"
      ],
      "metadata": {
        "id": "bwpW_S51_X-3"
      },
      "execution_count": null,
      "outputs": []
    },
    {
      "cell_type": "code",
      "source": [
        "# dictionary \n",
        "student1 = {'gender': 'male', 'age': 18} #字典形式\n",
        "student1['gender']                       #取指定key得值 []內填key的name\n",
        "student1.get('gender')                   #取指定key得值\n",
        "student1.keys()                          #顯示所有keys\n",
        "student1.values()                        #顯示所有values\n",
        "student1[0] = 'female'                   #增加新的key and value []內並非index\n",
        "del student1['gender']                   #刪除字典內某元素\n",
        "student1.clear()                         #刪除字典內所有元素\n",
        "del student1                             #删除字典"
      ],
      "metadata": {
        "colab": {
          "base_uri": "https://localhost:8080/"
        },
        "id": "nhLNrQwFEP11",
        "outputId": "2825a8ed-11cd-4cea-fd7a-bcc53cae6d9f"
      },
      "execution_count": 2,
      "outputs": [
        {
          "output_type": "stream",
          "name": "stdout",
          "text": [
            "male\n",
            "18\n",
            "{'gender': 'male', 'age': 18, 0: 'female'}\n"
          ]
        }
      ]
    },
    {
      "cell_type": "code",
      "source": [
        "# Looping through all key-value pairs\n",
        "user = {'username': 'Alex', 'first': 'dada', 'last': 'wang',}\n",
        "\n",
        "for key, value in user.items():\n",
        "  print(f\"Key: {key}, Value: {value}\")\n",
        "print()\n",
        "# Looping through all the keys in a dictionary\n",
        "for key in user.keys():\n",
        "  print(key + \": \" + user.get(key),end=', ')\n",
        "print()\n",
        "# Looping through a dictionary's keys in a pariticular order\n",
        "for key in sorted(user.keys()):\n",
        "  print(key,end=', ')\n",
        "print()\n",
        "# Looping through all values in a dictionary\n",
        "for value in user.values():\n",
        "  print(value.title(), end=', ')"
      ],
      "metadata": {
        "colab": {
          "base_uri": "https://localhost:8080/"
        },
        "id": "FzTAQFkHj3SH",
        "outputId": "844349b4-9f23-4a37-d717-d5c9776b59da"
      },
      "execution_count": 6,
      "outputs": [
        {
          "output_type": "stream",
          "name": "stdout",
          "text": [
            "Key: username, Value: Alex\n",
            "Key: first, Value: dada\n",
            "Key: last, Value: wang\n",
            "\n",
            "username: Alex, first: dada, last: wang, \n",
            "first, last, username, \n",
            "Alex, Dada, Wang, "
          ]
        }
      ]
    },
    {
      "cell_type": "code",
      "source": [
        "# A List in a Dictionary\n",
        "pizza = {'crust': 'thick', 'toppings': ['mushrooms', 'extra cheese'],}\n",
        "\n",
        "print(f\"You ordered a {pizza['crust']}-crust pizza \"\n",
        "      \"with the following toppings:\")\n",
        "for topping in pizza['toppings']:\n",
        "  print(\"\\t\" + topping)\n",
        "\n",
        "# A Dictionary in a Dictionary\n",
        "users = {'Enoch': {'full_name': 'Xiao Wang','age': 25,},\n",
        "    'Fandy': {'full_name': 'Wang Hong','age': 25,} }\n",
        "    \n",
        "for name, information in users.items():\n",
        "  print(f\"{name}: {information['full_name']} is {information['age']} years old.\")"
      ],
      "metadata": {
        "colab": {
          "base_uri": "https://localhost:8080/"
        },
        "id": "l1lgkh8HmKYz",
        "outputId": "c5bb92f8-b85a-4d1d-8f35-b410c30dec0f"
      },
      "execution_count": 8,
      "outputs": [
        {
          "output_type": "stream",
          "name": "stdout",
          "text": [
            "You ordered a thick-crust pizza with the following toppings:\n",
            "\tmushrooms\n",
            "\textra cheese\n",
            "Enoch: Xiao Wang is 25 years old.\n",
            "Fandy: Wang Hong is 25 years old.\n"
          ]
        }
      ]
    },
    {
      "cell_type": "code",
      "source": [
        "#set 無序且不重複的序列\n",
        "new_set = set(value) #將value轉成set\n",
        "colors = {'red', 'green', 'blue', 'red'} #print = {'red', 'green', 'blue'}\n",
        "a = set('abcdr')\n",
        "b = set('aclzm')\n",
        "print(a - b) # 集合a中包含而集合b中不包含的元素\n",
        "print(a | b) # 集合a或b中都包含的元素 \n",
        "print(a & b) # 集合a和b中都包含的元素\n",
        "print(a ^ b) # 不同时包含于a和b的元素\n",
        "colors.add('purple') #若有重複則不增加\n",
        "colors.update({1,3}, [5,2]) #也可以用来添加元素，且参数可以是list, tuple, dictionary\n",
        "colars.remove('purple')  #刪除，元素不在會報錯\n",
        "colors.discard('orange') #刪除，元素不在不會報錯"
      ],
      "metadata": {
        "colab": {
          "base_uri": "https://localhost:8080/"
        },
        "id": "YPrPEyvVpJmH",
        "outputId": "01babb55-47b5-48e9-e31c-ae39961f3a8b"
      },
      "execution_count": 17,
      "outputs": [
        {
          "output_type": "stream",
          "name": "stdout",
          "text": [
            "{'r', 'b', 'd'}\n",
            "{'z', 'd', 'm', 'r', 'b', 'a', 'c', 'l'}\n",
            "{'c', 'a'}\n",
            "{'r', 'b', 'd', 'l', 'z', 'm'}\n"
          ]
        }
      ]
    },
    {
      "cell_type": "code",
      "source": [
        "new_set = set((\"Google\", \"Facebook\", \"Amazon\"))\n",
        "new_set.update({1, 3})\n",
        "print(new_set)"
      ],
      "metadata": {
        "colab": {
          "base_uri": "https://localhost:8080/"
        },
        "id": "lQJx36sOqm0B",
        "outputId": "600907fc-54d5-45e9-86e6-e65d99a1424f"
      },
      "execution_count": 16,
      "outputs": [
        {
          "output_type": "stream",
          "name": "stdout",
          "text": [
            "{1, 3, 'Google', 'Facebook', 'Amazon'}\n"
          ]
        }
      ]
    }
  ]
}